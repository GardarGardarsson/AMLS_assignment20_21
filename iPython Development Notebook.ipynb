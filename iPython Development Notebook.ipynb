{
 "cells": [
  {
   "cell_type": "code",
   "execution_count": 135,
   "metadata": {},
   "outputs": [],
   "source": [
    "# Print progress\n",
    "def print_progress (iteration, total, message = '', length = 20):\n",
    "    \n",
    "    # Calculate percent complete\n",
    "    percent = \"{0:.1f}\".format(iteration / total * 100)\n",
    "    # Determine fill of loading bar, length is the total length\n",
    "    fill = int(length * iteration / total)\n",
    "    # Determine the empty space of the loading bar\n",
    "    empty = ' ' * (length - fill)\n",
    "    # Animate the bar with unicode character 2588, a filled block\n",
    "    bar = u\"\\u2588\" * fill + empty\n",
    "    \n",
    "    # Print loading bar\n",
    "    print(f'\\r{message} |{bar}| {percent}% ', end = '\\r')\n",
    "   \n",
    "    # Print new line on completion\n",
    "    if iteration == total: \n",
    "        print()"
   ]
  },
  {
   "cell_type": "code",
   "execution_count": 136,
   "metadata": {},
   "outputs": [
    {
     "name": "stdout",
     "output_type": "stream",
     "text": [
      "Loading images:  |████████████████████| 100.0% \n",
      "Loading labels:  |████████████████████| 100.0% \n"
     ]
    }
   ],
   "source": [
    "for i in range(500):\n",
    "    time.sleep(0.01)\n",
    "    print_progress(i,500-1,message='Loading images: ')\n",
    "    \n",
    "for i in range(100):\n",
    "    time.sleep(0.01)\n",
    "    print_progress(i,100-1,message='Loading labels: ')"
   ]
  },
  {
   "cell_type": "code",
   "execution_count": null,
   "metadata": {},
   "outputs": [],
   "source": []
  }
 ],
 "metadata": {
  "kernelspec": {
   "display_name": "Python 3",
   "language": "python",
   "name": "python3"
  },
  "language_info": {
   "codemirror_mode": {
    "name": "ipython",
    "version": 3
   },
   "file_extension": ".py",
   "mimetype": "text/x-python",
   "name": "python",
   "nbconvert_exporter": "python",
   "pygments_lexer": "ipython3",
   "version": "3.7.9"
  }
 },
 "nbformat": 4,
 "nbformat_minor": 4
}
